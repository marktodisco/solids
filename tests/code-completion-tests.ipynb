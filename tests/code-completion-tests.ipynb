{
 "cells": [
  {
   "cell_type": "code",
   "execution_count": 1,
   "metadata": {},
   "outputs": [],
   "source": [
    "import solids"
   ]
  },
  {
   "cell_type": "code",
   "execution_count": 3,
   "metadata": {},
   "outputs": [
    {
     "name": "stdout",
     "output_type": "stream",
     "text": [
      "Help on package solids:\n",
      "\n",
      "NAME\n",
      "    solids\n",
      "\n",
      "PACKAGE CONTENTS\n",
      "    base\n",
      "    compatibility\n",
      "    math\n",
      "    strain\n",
      "    stress\n",
      "\n",
      "FILE\n",
      "    c:\\users\\windows\\onedrive\\school\\2020-3-fall\\mech-5620-solid-mechanics-i\\solids\\solids\\__init__.py\n",
      "\n",
      "\n"
     ]
    }
   ],
   "source": [
    "help(solids)"
   ]
  },
  {
   "cell_type": "code",
   "execution_count": 3,
   "metadata": {},
   "outputs": [
    {
     "name": "stdout",
     "output_type": "stream",
     "text": [
      "Help on package solids.math in solids:\n",
      "\n",
      "NAME\n",
      "    solids.math\n",
      "\n",
      "PACKAGE CONTENTS\n",
      "    _math\n",
      "\n",
      "FILE\n",
      "    c:\\users\\windows\\onedrive\\school\\2020-3-fall\\mech-5620-solid-mechanics-i\\solids\\solids\\math\\__init__.py\n",
      "\n",
      "\n"
     ]
    }
   ],
   "source": [
    "help(solids.math)"
   ]
  },
  {
   "cell_type": "code",
   "execution_count": 6,
   "metadata": {
    "scrolled": true
   },
   "outputs": [
    {
     "name": "stdout",
     "output_type": "stream",
     "text": [
      "Help on module solids.strain in solids:\n",
      "\n",
      "NAME\n",
      "    solids.strain\n",
      "\n",
      "CLASSES\n",
      "    solids.stress.StressState(builtins.object)\n",
      "        StrainState\n",
      "    \n",
      "    class StrainState(solids.stress.StressState)\n",
      "     |  StrainState(sigma, dtype)\n",
      "     |  \n",
      "     |  Method resolution order:\n",
      "     |      StrainState\n",
      "     |      solids.stress.StressState\n",
      "     |      builtins.object\n",
      "     |  \n",
      "     |  Methods defined here:\n",
      "     |  \n",
      "     |  __init__(self, sigma, dtype)\n",
      "     |      Initialize self.  See help(type(self)) for accurate signature.\n",
      "     |  \n",
      "     |  full_report(self)\n",
      "     |  \n",
      "     |  ----------------------------------------------------------------------\n",
      "     |  Data descriptors defined here:\n",
      "     |  \n",
      "     |  octahedral_normal\n",
      "     |  \n",
      "     |  principal_strain\n",
      "     |  \n",
      "     |  ----------------------------------------------------------------------\n",
      "     |  Methods inherited from solids.stress.StressState:\n",
      "     |  \n",
      "     |  __repr__(self)\n",
      "     |      Return repr(self).\n",
      "     |  \n",
      "     |  __str__(self)\n",
      "     |      Return str(self).\n",
      "     |  \n",
      "     |  ----------------------------------------------------------------------\n",
      "     |  Data descriptors inherited from solids.stress.StressState:\n",
      "     |  \n",
      "     |  __dict__\n",
      "     |      dictionary for instance variables (if defined)\n",
      "     |  \n",
      "     |  __weakref__\n",
      "     |      list of weak references to the object (if defined)\n",
      "     |  \n",
      "     |  char_poly\n",
      "     |  \n",
      "     |  decompose\n",
      "     |  \n",
      "     |  invariants\n",
      "     |  \n",
      "     |  max_shear\n",
      "     |  \n",
      "     |  octahedral_shear\n",
      "     |  \n",
      "     |  principal_axes\n",
      "     |  \n",
      "     |  principal_stresses\n",
      "\n",
      "FUNCTIONS\n",
      "    strain(u: list = None, v: list = None, H: sympy.matrices.dense.MutableDenseMatrix = None, ret_H: bool = False) -> Union[Tuple[sympy.matrices.dense.MutableDenseMatrix, sympy.matrices.dense.MutableDenseMatrix, sympy.matrices.dense.MutableDenseMatrix, sympy.matrices.dense.MutableDenseMatrix], Tuple[sympy.matrices.dense.MutableDenseMatrix, sympy.matrices.dense.MutableDenseMatrix, sympy.matrices.dense.MutableDenseMatrix, sympy.matrices.dense.MutableDenseMatrix, sympy.matrices.dense.MutableDenseMatrix]]\n",
      "        Calculate infinitesimal strain, infinitesimal rotation, Lagrangian strain, and\n",
      "        Eulerian strain.\n",
      "        \n",
      "        Parameters\n",
      "        ----------\n",
      "        u : list, optional\n",
      "            Symbolic strain field, by default None\n",
      "        v : list, optional\n",
      "            Symbols to differentiate wrt, by default None\n",
      "        H : sp.Matrix, optional\n",
      "            Derivative matrix of the strain field equations, by default None\n",
      "        ret_H : bool, optional\n",
      "            Return the deriavtives matrix H.\n",
      "        \n",
      "        Returns\n",
      "        -------\n",
      "        Tuple[sp.Matrix, sp.Matrix, sp.Matrix, sp.Matrix]\n",
      "            infinitesimal strain, infinitesimal rotation, Lagrangian strain, and\n",
      "            Eulerian strain. (epsilon, omega, E, e)\n",
      "        \n",
      "        If ret_H is True\n",
      "        \n",
      "        Tuple[sp.Matrix, sp.Matrix, sp.Matrix, sp.Matrix, sp.Matrix]\n",
      "            infinitesimal strain, infinitesimal rotation, Lagrangian strain, and\n",
      "            Eulerian strain. (epsilon, omega, E, e, H)\n",
      "        \n",
      "        Raises\n",
      "        ------\n",
      "        ValueError\n",
      "            If `u` and `H` are both unspecified.\n",
      "        ValueError\n",
      "            If `u` is specified, `v` must also be specified.\n",
      "\n",
      "DATA\n",
      "    __all__ = ['strain', 'StrainState']\n",
      "\n",
      "FILE\n",
      "    c:\\users\\windows\\onedrive\\school\\2020-3-fall\\mech-5620-solid-mechanics-i\\solids\\solids\\strain.py\n",
      "\n",
      "\n"
     ]
    }
   ],
   "source": [
    "help(solids.strain)"
   ]
  }
 ],
 "metadata": {
  "kernelspec": {
   "display_name": "Python 3.7 (fall2020)",
   "language": "python",
   "name": "fall2020"
  },
  "language_info": {
   "codemirror_mode": {
    "name": "ipython",
    "version": 3
   },
   "file_extension": ".py",
   "mimetype": "text/x-python",
   "name": "python",
   "nbconvert_exporter": "python",
   "pygments_lexer": "ipython3",
   "version": "3.7.9"
  }
 },
 "nbformat": 4,
 "nbformat_minor": 4
}
