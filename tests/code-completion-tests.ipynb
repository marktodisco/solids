{
 "cells": [
  {
   "cell_type": "code",
   "execution_count": 1,
   "metadata": {},
   "outputs": [],
   "source": [
    "import solids\n",
    "import sympy as sp"
   ]
  },
  {
   "cell_type": "code",
   "execution_count": 2,
   "metadata": {},
   "outputs": [
    {
     "data": {
      "text/latex": [
       "$\\displaystyle x_{3}$"
      ],
      "text/plain": [
       "x_3"
      ]
     },
     "execution_count": 2,
     "metadata": {},
     "output_type": "execute_result"
    }
   ],
   "source": [
    "A, B, x1, x2, x3 = sp.symbols('A, B, x_(1:4)')\n",
    "x3"
   ]
  },
  {
   "cell_type": "code",
   "execution_count": 3,
   "metadata": {},
   "outputs": [
    {
     "name": "stderr",
     "output_type": "stream",
     "text": [
      "C:\\Users\\Windows\\miniconda3\\envs\\fall2020\\lib\\site-packages\\ipykernel_launcher.py:16: DeprecationWarning: poop\n",
      "  app.launch_new_instance()\n"
     ]
    }
   ],
   "source": [
    "# eps = {\n",
    "#     11: A*x2**2,\n",
    "#     22: A*x1**2.\n",
    "#     12: B*x1*x2,\n",
    "#     33: 0,\n",
    "#     23: 0,\n",
    "#     12: 0\n",
    "# }\n",
    "\n",
    "u = [\n",
    "    (x1**2 + 20) * 1e-4,\n",
    "    2 * x2 * x3 * 1e-3,\n",
    "    (x3**2 - x1*x2) * 1e-3\n",
    "]\n",
    "\n",
    "epsilon1, omega1, E1, e1, H1 = solids.strain.calc_strain(u, [x1, x2, x3], ret_H=True)"
   ]
  },
  {
   "cell_type": "code",
   "execution_count": 4,
   "metadata": {},
   "outputs": [
    {
     "data": {
      "text/latex": [
       "$\\displaystyle \\left[\\begin{matrix}0.0002 x_{1} & 0 & - 0.0005 x_{2}\\\\0 & 0.002 x_{3} & - 0.0005 x_{1} + 0.001 x_{2}\\\\- 0.0005 x_{2} & - 0.0005 x_{1} + 0.001 x_{2} & 0.002 x_{3}\\end{matrix}\\right]$"
      ],
      "text/plain": [
       "Matrix([\n",
       "[ 0.0002*x_1,                       0,             -0.0005*x_2],\n",
       "[          0,               0.002*x_3, -0.0005*x_1 + 0.001*x_2],\n",
       "[-0.0005*x_2, -0.0005*x_1 + 0.001*x_2,               0.002*x_3]])"
      ]
     },
     "execution_count": 4,
     "metadata": {},
     "output_type": "execute_result"
    }
   ],
   "source": [
    "epsilon1"
   ]
  },
  {
   "cell_type": "code",
   "execution_count": 5,
   "metadata": {},
   "outputs": [
    {
     "data": {
      "text/latex": [
       "$\\displaystyle \\left[\\begin{matrix}0 & 0 & 0.0005 x_{2}\\\\0 & 0 & 0.0005 x_{1} + 0.001 x_{2}\\\\- 0.0005 x_{2} & - 0.0005 x_{1} - 0.001 x_{2} & 0\\end{matrix}\\right]$"
      ],
      "text/plain": [
       "Matrix([\n",
       "[          0,                       0,             0.0005*x_2],\n",
       "[          0,                       0, 0.0005*x_1 + 0.001*x_2],\n",
       "[-0.0005*x_2, -0.0005*x_1 - 0.001*x_2,                      0]])"
      ]
     },
     "execution_count": 5,
     "metadata": {},
     "output_type": "execute_result"
    }
   ],
   "source": [
    "omega1"
   ]
  },
  {
   "cell_type": "code",
   "execution_count": 6,
   "metadata": {},
   "outputs": [
    {
     "data": {
      "text/latex": [
       "$\\displaystyle \\left[\\begin{matrix}2.0 \\cdot 10^{-8} x_{1}^{2} + 0.0002 x_{1} + 5.0 \\cdot 10^{-7} x_{2}^{2} & 5.0 \\cdot 10^{-7} x_{1} x_{2} & - 1.0 \\cdot 10^{-6} x_{2} x_{3} - 0.0005 x_{2}\\\\5.0 \\cdot 10^{-7} x_{1} x_{2} & 5.0 \\cdot 10^{-7} x_{1}^{2} + 2.0 \\cdot 10^{-6} x_{3}^{2} + 0.002 x_{3} & - 1.0 \\cdot 10^{-6} x_{1} x_{3} - 0.0005 x_{1} + 2.0 \\cdot 10^{-6} x_{2} x_{3} + 0.001 x_{2}\\\\- 1.0 \\cdot 10^{-6} x_{2} x_{3} - 0.0005 x_{2} & - 1.0 \\cdot 10^{-6} x_{1} x_{3} - 0.0005 x_{1} + 2.0 \\cdot 10^{-6} x_{2} x_{3} + 0.001 x_{2} & 2.0 \\cdot 10^{-6} x_{2}^{2} + 2.0 \\cdot 10^{-6} x_{3}^{2} + 0.002 x_{3}\\end{matrix}\\right]$"
      ],
      "text/plain": [
       "Matrix([\n",
       "[2.0e-8*x_1**2 + 0.0002*x_1 + 5.0e-7*x_2**2,                                            5.0e-7*x_1*x_2,                              -1.0e-6*x_2*x_3 - 0.0005*x_2],\n",
       "[                            5.0e-7*x_1*x_2,                 5.0e-7*x_1**2 + 2.0e-6*x_3**2 + 0.002*x_3, -1.0e-6*x_1*x_3 - 0.0005*x_1 + 2.0e-6*x_2*x_3 + 0.001*x_2],\n",
       "[              -1.0e-6*x_2*x_3 - 0.0005*x_2, -1.0e-6*x_1*x_3 - 0.0005*x_1 + 2.0e-6*x_2*x_3 + 0.001*x_2,                 2.0e-6*x_2**2 + 2.0e-6*x_3**2 + 0.002*x_3]])"
      ]
     },
     "execution_count": 6,
     "metadata": {},
     "output_type": "execute_result"
    }
   ],
   "source": [
    "E1"
   ]
  },
  {
   "cell_type": "code",
   "execution_count": 7,
   "metadata": {},
   "outputs": [
    {
     "data": {
      "text/latex": [
       "$\\displaystyle \\left[\\begin{matrix}- 2.0 \\cdot 10^{-8} x_{1}^{2} + 0.0002 x_{1} - 5.0 \\cdot 10^{-7} x_{2}^{2} & - 5.0 \\cdot 10^{-7} x_{1} x_{2} & 1.0 \\cdot 10^{-6} x_{2} x_{3} - 0.0005 x_{2}\\\\- 5.0 \\cdot 10^{-7} x_{1} x_{2} & - 5.0 \\cdot 10^{-7} x_{1}^{2} - 2.0 \\cdot 10^{-6} x_{3}^{2} + 0.002 x_{3} & 1.0 \\cdot 10^{-6} x_{1} x_{3} - 0.0005 x_{1} - 2.0 \\cdot 10^{-6} x_{2} x_{3} + 0.001 x_{2}\\\\1.0 \\cdot 10^{-6} x_{2} x_{3} - 0.0005 x_{2} & 1.0 \\cdot 10^{-6} x_{1} x_{3} - 0.0005 x_{1} - 2.0 \\cdot 10^{-6} x_{2} x_{3} + 0.001 x_{2} & - 2.0 \\cdot 10^{-6} x_{2}^{2} - 2.0 \\cdot 10^{-6} x_{3}^{2} + 0.002 x_{3}\\end{matrix}\\right]$"
      ],
      "text/plain": [
       "Matrix([\n",
       "[-2.0e-8*x_1**2 + 0.0002*x_1 - 5.0e-7*x_2**2,                                          -5.0e-7*x_1*x_2,                              1.0e-6*x_2*x_3 - 0.0005*x_2],\n",
       "[                            -5.0e-7*x_1*x_2,               -5.0e-7*x_1**2 - 2.0e-6*x_3**2 + 0.002*x_3, 1.0e-6*x_1*x_3 - 0.0005*x_1 - 2.0e-6*x_2*x_3 + 0.001*x_2],\n",
       "[                1.0e-6*x_2*x_3 - 0.0005*x_2, 1.0e-6*x_1*x_3 - 0.0005*x_1 - 2.0e-6*x_2*x_3 + 0.001*x_2,               -2.0e-6*x_2**2 - 2.0e-6*x_3**2 + 0.002*x_3]])"
      ]
     },
     "execution_count": 7,
     "metadata": {},
     "output_type": "execute_result"
    }
   ],
   "source": [
    "e1"
   ]
  },
  {
   "cell_type": "code",
   "execution_count": 8,
   "metadata": {},
   "outputs": [
    {
     "data": {
      "text/latex": [
       "$\\displaystyle \\left[\\begin{matrix}0.0002 x_{1} & 0 & 0\\\\0 & 0.002 x_{3} & 0.002 x_{2}\\\\- 0.001 x_{2} & - 0.001 x_{1} & 0.002 x_{3}\\end{matrix}\\right]$"
      ],
      "text/plain": [
       "Matrix([\n",
       "[0.0002*x_1,          0,         0],\n",
       "[         0,  0.002*x_3, 0.002*x_2],\n",
       "[-0.001*x_2, -0.001*x_1, 0.002*x_3]])"
      ]
     },
     "execution_count": 8,
     "metadata": {},
     "output_type": "execute_result"
    }
   ],
   "source": [
    "H1"
   ]
  },
  {
   "cell_type": "code",
   "execution_count": 9,
   "metadata": {},
   "outputs": [
    {
     "name": "stderr",
     "output_type": "stream",
     "text": [
      "C:\\Users\\Windows\\miniconda3\\envs\\fall2020\\lib\\site-packages\\ipykernel_launcher.py:1: DeprecationWarning: poop\n",
      "  \"\"\"Entry point for launching an IPython kernel.\n"
     ]
    }
   ],
   "source": [
    "epsilon, omega, E, e, H = solids.strain.calc_strain(H=H1, ret_H=True)"
   ]
  },
  {
   "cell_type": "code",
   "execution_count": 10,
   "metadata": {},
   "outputs": [
    {
     "data": {
      "text/latex": [
       "$\\displaystyle \\left[\\begin{matrix}0.0002 x_{1} & 0 & - 0.0005 x_{2}\\\\0 & 0.002 x_{3} & - 0.0005 x_{1} + 0.001 x_{2}\\\\- 0.0005 x_{2} & - 0.0005 x_{1} + 0.001 x_{2} & 0.002 x_{3}\\end{matrix}\\right]$"
      ],
      "text/plain": [
       "Matrix([\n",
       "[ 0.0002*x_1,                       0,             -0.0005*x_2],\n",
       "[          0,               0.002*x_3, -0.0005*x_1 + 0.001*x_2],\n",
       "[-0.0005*x_2, -0.0005*x_1 + 0.001*x_2,               0.002*x_3]])"
      ]
     },
     "execution_count": 10,
     "metadata": {},
     "output_type": "execute_result"
    }
   ],
   "source": [
    "epsilon"
   ]
  },
  {
   "cell_type": "code",
   "execution_count": 11,
   "metadata": {},
   "outputs": [
    {
     "data": {
      "text/latex": [
       "$\\displaystyle \\left[\\begin{matrix}0 & 0 & 0.0005 x_{2}\\\\0 & 0 & 0.0005 x_{1} + 0.001 x_{2}\\\\- 0.0005 x_{2} & - 0.0005 x_{1} - 0.001 x_{2} & 0\\end{matrix}\\right]$"
      ],
      "text/plain": [
       "Matrix([\n",
       "[          0,                       0,             0.0005*x_2],\n",
       "[          0,                       0, 0.0005*x_1 + 0.001*x_2],\n",
       "[-0.0005*x_2, -0.0005*x_1 - 0.001*x_2,                      0]])"
      ]
     },
     "execution_count": 11,
     "metadata": {},
     "output_type": "execute_result"
    }
   ],
   "source": [
    "omega"
   ]
  },
  {
   "cell_type": "code",
   "execution_count": 12,
   "metadata": {},
   "outputs": [
    {
     "data": {
      "text/latex": [
       "$\\displaystyle \\left[\\begin{matrix}2.0 \\cdot 10^{-8} x_{1}^{2} + 0.0002 x_{1} + 5.0 \\cdot 10^{-7} x_{2}^{2} & 5.0 \\cdot 10^{-7} x_{1} x_{2} & - 1.0 \\cdot 10^{-6} x_{2} x_{3} - 0.0005 x_{2}\\\\5.0 \\cdot 10^{-7} x_{1} x_{2} & 5.0 \\cdot 10^{-7} x_{1}^{2} + 2.0 \\cdot 10^{-6} x_{3}^{2} + 0.002 x_{3} & - 1.0 \\cdot 10^{-6} x_{1} x_{3} - 0.0005 x_{1} + 2.0 \\cdot 10^{-6} x_{2} x_{3} + 0.001 x_{2}\\\\- 1.0 \\cdot 10^{-6} x_{2} x_{3} - 0.0005 x_{2} & - 1.0 \\cdot 10^{-6} x_{1} x_{3} - 0.0005 x_{1} + 2.0 \\cdot 10^{-6} x_{2} x_{3} + 0.001 x_{2} & 2.0 \\cdot 10^{-6} x_{2}^{2} + 2.0 \\cdot 10^{-6} x_{3}^{2} + 0.002 x_{3}\\end{matrix}\\right]$"
      ],
      "text/plain": [
       "Matrix([\n",
       "[2.0e-8*x_1**2 + 0.0002*x_1 + 5.0e-7*x_2**2,                                            5.0e-7*x_1*x_2,                              -1.0e-6*x_2*x_3 - 0.0005*x_2],\n",
       "[                            5.0e-7*x_1*x_2,                 5.0e-7*x_1**2 + 2.0e-6*x_3**2 + 0.002*x_3, -1.0e-6*x_1*x_3 - 0.0005*x_1 + 2.0e-6*x_2*x_3 + 0.001*x_2],\n",
       "[              -1.0e-6*x_2*x_3 - 0.0005*x_2, -1.0e-6*x_1*x_3 - 0.0005*x_1 + 2.0e-6*x_2*x_3 + 0.001*x_2,                 2.0e-6*x_2**2 + 2.0e-6*x_3**2 + 0.002*x_3]])"
      ]
     },
     "execution_count": 12,
     "metadata": {},
     "output_type": "execute_result"
    }
   ],
   "source": [
    "E"
   ]
  },
  {
   "cell_type": "code",
   "execution_count": 13,
   "metadata": {},
   "outputs": [
    {
     "data": {
      "text/latex": [
       "$\\displaystyle \\left[\\begin{matrix}- 2.0 \\cdot 10^{-8} x_{1}^{2} + 0.0002 x_{1} - 5.0 \\cdot 10^{-7} x_{2}^{2} & - 5.0 \\cdot 10^{-7} x_{1} x_{2} & 1.0 \\cdot 10^{-6} x_{2} x_{3} - 0.0005 x_{2}\\\\- 5.0 \\cdot 10^{-7} x_{1} x_{2} & - 5.0 \\cdot 10^{-7} x_{1}^{2} - 2.0 \\cdot 10^{-6} x_{3}^{2} + 0.002 x_{3} & 1.0 \\cdot 10^{-6} x_{1} x_{3} - 0.0005 x_{1} - 2.0 \\cdot 10^{-6} x_{2} x_{3} + 0.001 x_{2}\\\\1.0 \\cdot 10^{-6} x_{2} x_{3} - 0.0005 x_{2} & 1.0 \\cdot 10^{-6} x_{1} x_{3} - 0.0005 x_{1} - 2.0 \\cdot 10^{-6} x_{2} x_{3} + 0.001 x_{2} & - 2.0 \\cdot 10^{-6} x_{2}^{2} - 2.0 \\cdot 10^{-6} x_{3}^{2} + 0.002 x_{3}\\end{matrix}\\right]$"
      ],
      "text/plain": [
       "Matrix([\n",
       "[-2.0e-8*x_1**2 + 0.0002*x_1 - 5.0e-7*x_2**2,                                          -5.0e-7*x_1*x_2,                              1.0e-6*x_2*x_3 - 0.0005*x_2],\n",
       "[                            -5.0e-7*x_1*x_2,               -5.0e-7*x_1**2 - 2.0e-6*x_3**2 + 0.002*x_3, 1.0e-6*x_1*x_3 - 0.0005*x_1 - 2.0e-6*x_2*x_3 + 0.001*x_2],\n",
       "[                1.0e-6*x_2*x_3 - 0.0005*x_2, 1.0e-6*x_1*x_3 - 0.0005*x_1 - 2.0e-6*x_2*x_3 + 0.001*x_2,               -2.0e-6*x_2**2 - 2.0e-6*x_3**2 + 0.002*x_3]])"
      ]
     },
     "execution_count": 13,
     "metadata": {},
     "output_type": "execute_result"
    }
   ],
   "source": [
    "e"
   ]
  },
  {
   "cell_type": "code",
   "execution_count": 14,
   "metadata": {},
   "outputs": [
    {
     "data": {
      "text/latex": [
       "$\\displaystyle \\left[\\begin{matrix}0.0002 x_{1} & 0 & 0\\\\0 & 0.002 x_{3} & 0.002 x_{2}\\\\- 0.001 x_{2} & - 0.001 x_{1} & 0.002 x_{3}\\end{matrix}\\right]$"
      ],
      "text/plain": [
       "Matrix([\n",
       "[0.0002*x_1,          0,         0],\n",
       "[         0,  0.002*x_3, 0.002*x_2],\n",
       "[-0.001*x_2, -0.001*x_1, 0.002*x_3]])"
      ]
     },
     "execution_count": 14,
     "metadata": {},
     "output_type": "execute_result"
    }
   ],
   "source": [
    "H"
   ]
  },
  {
   "cell_type": "code",
   "execution_count": 15,
   "metadata": {},
   "outputs": [
    {
     "data": {
      "text/plain": [
       "(True, True, True, True, True)"
      ]
     },
     "execution_count": 15,
     "metadata": {},
     "output_type": "execute_result"
    }
   ],
   "source": [
    "epsilon.equals(epsilon1), omega.equals(omega1), E.equals(E1), e.equals(e1), H.equals(H1)"
   ]
  },
  {
   "cell_type": "code",
   "execution_count": 16,
   "metadata": {},
   "outputs": [
    {
     "name": "stderr",
     "output_type": "stream",
     "text": [
      "C:\\Users\\Windows\\miniconda3\\envs\\fall2020\\lib\\site-packages\\ipykernel_launcher.py:1: DeprecationWarning: poop\n",
      "  \"\"\"Entry point for launching an IPython kernel.\n"
     ]
    },
    {
     "data": {
      "text/plain": [
       "(Matrix([\n",
       " [ 0.0002*x_1,                       0,             -0.0005*x_2],\n",
       " [          0,               0.002*x_3, -0.0005*x_1 + 0.001*x_2],\n",
       " [-0.0005*x_2, -0.0005*x_1 + 0.001*x_2,               0.002*x_3]]),\n",
       " Matrix([\n",
       " [          0,                       0,             0.0005*x_2],\n",
       " [          0,                       0, 0.0005*x_1 + 0.001*x_2],\n",
       " [-0.0005*x_2, -0.0005*x_1 - 0.001*x_2,                      0]]),\n",
       " Matrix([\n",
       " [2.0e-8*x_1**2 + 0.0002*x_1 + 5.0e-7*x_2**2,                                            5.0e-7*x_1*x_2,                              -1.0e-6*x_2*x_3 - 0.0005*x_2],\n",
       " [                            5.0e-7*x_1*x_2,                 5.0e-7*x_1**2 + 2.0e-6*x_3**2 + 0.002*x_3, -1.0e-6*x_1*x_3 - 0.0005*x_1 + 2.0e-6*x_2*x_3 + 0.001*x_2],\n",
       " [              -1.0e-6*x_2*x_3 - 0.0005*x_2, -1.0e-6*x_1*x_3 - 0.0005*x_1 + 2.0e-6*x_2*x_3 + 0.001*x_2,                 2.0e-6*x_2**2 + 2.0e-6*x_3**2 + 0.002*x_3]]),\n",
       " Matrix([\n",
       " [-2.0e-8*x_1**2 + 0.0002*x_1 - 5.0e-7*x_2**2,                                          -5.0e-7*x_1*x_2,                              1.0e-6*x_2*x_3 - 0.0005*x_2],\n",
       " [                            -5.0e-7*x_1*x_2,               -5.0e-7*x_1**2 - 2.0e-6*x_3**2 + 0.002*x_3, 1.0e-6*x_1*x_3 - 0.0005*x_1 - 2.0e-6*x_2*x_3 + 0.001*x_2],\n",
       " [                1.0e-6*x_2*x_3 - 0.0005*x_2, 1.0e-6*x_1*x_3 - 0.0005*x_1 - 2.0e-6*x_2*x_3 + 0.001*x_2,               -2.0e-6*x_2**2 - 2.0e-6*x_3**2 + 0.002*x_3]]),\n",
       " Matrix([\n",
       " [0.0002*x_1,          0,         0],\n",
       " [         0,  0.002*x_3, 0.002*x_2],\n",
       " [-0.001*x_2, -0.001*x_1, 0.002*x_3]]))"
      ]
     },
     "execution_count": 16,
     "metadata": {},
     "output_type": "execute_result"
    }
   ],
   "source": [
    "solids.strain.calc_strain(H=H1, u=None, v=None, ret_H=True)"
   ]
  },
  {
   "cell_type": "code",
   "execution_count": 17,
   "metadata": {},
   "outputs": [],
   "source": [
    "import warnings"
   ]
  },
  {
   "cell_type": "code",
   "execution_count": 18,
   "metadata": {},
   "outputs": [
    {
     "name": "stderr",
     "output_type": "stream",
     "text": [
      "C:\\Users\\Windows\\miniconda3\\envs\\fall2020\\lib\\site-packages\\ipykernel_launcher.py:1: DeprecationWarning: help\n",
      "  \"\"\"Entry point for launching an IPython kernel.\n"
     ]
    }
   ],
   "source": [
    "warnings.warn('help', DeprecationWarning)"
   ]
  },
  {
   "cell_type": "code",
   "execution_count": null,
   "metadata": {},
   "outputs": [],
   "source": []
  },
  {
   "cell_type": "code",
   "execution_count": null,
   "metadata": {},
   "outputs": [],
   "source": []
  },
  {
   "cell_type": "code",
   "execution_count": null,
   "metadata": {},
   "outputs": [],
   "source": []
  },
  {
   "cell_type": "code",
   "execution_count": null,
   "metadata": {},
   "outputs": [],
   "source": []
  },
  {
   "cell_type": "code",
   "execution_count": null,
   "metadata": {},
   "outputs": [],
   "source": []
  },
  {
   "cell_type": "code",
   "execution_count": null,
   "metadata": {},
   "outputs": [],
   "source": []
  },
  {
   "cell_type": "code",
   "execution_count": null,
   "metadata": {},
   "outputs": [],
   "source": []
  }
 ],
 "metadata": {
  "kernelspec": {
   "display_name": "Python 3.7 (fall2020)",
   "language": "python",
   "name": "fall2020"
  },
  "language_info": {
   "codemirror_mode": {
    "name": "ipython",
    "version": 3
   },
   "file_extension": ".py",
   "mimetype": "text/x-python",
   "name": "python",
   "nbconvert_exporter": "python",
   "pygments_lexer": "ipython3",
   "version": "3.7.9"
  }
 },
 "nbformat": 4,
 "nbformat_minor": 4
}
